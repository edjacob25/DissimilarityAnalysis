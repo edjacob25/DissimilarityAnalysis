{
 "cells": [
  {
   "cell_type": "code",
   "execution_count": null,
   "metadata": {},
   "outputs": [],
   "source": [
    "import sys\n",
    "sys.path.append(\"..\")\n",
    "\n",
    "from pandas import DataFrame\n",
    "import pandas as pd\n",
    "import numpy as np\n",
    "from jmetal.util.visualization import CDplot\n",
    "import matplotlib.pyplot as plt\n",
    "import random\n",
    "import re\n",
    "import os\n",
    "import git\n",
    "from scipy.stats import wilcoxon\n",
    "from sqlalchemy import create_engine, or_, Column, Integer, String, Float, DateTime, ForeignKey, Boolean\n",
    "from sqlalchemy.ext.declarative import declarative_base\n",
    "from sqlalchemy.orm import relationship, sessionmaker\n",
    "from do_analysis import Experiment, ExperimentSet"
   ]
  },
  {
   "cell_type": "code",
   "execution_count": null,
   "metadata": {},
   "outputs": [],
   "source": [
    "def from_db_to_pandas(query):\n",
    "    last = \"\"\n",
    "    headers = []\n",
    "    datasets = []\n",
    "    series = []\n",
    "    serie = None\n",
    "    code_directory = os.path.abspath(os.path.join(os.getcwd(), os.pardir))\n",
    "    repo = git.Repo(code_directory)\n",
    "\n",
    "    for experiment in query:\n",
    "        if last != experiment.file_name:\n",
    "            last = experiment.file_name\n",
    "            dataset_name = experiment.file_name.rsplit('/')[-1].split(\".\")[0]\n",
    "            datasets.append(dataset_name)\n",
    "            if serie is not None:\n",
    "                series.append(serie)\n",
    "            serie = []\n",
    "        message = experiment.set.description\n",
    "        measure =  experiment.method.split('.')[-1]\n",
    "        if \"Learning Based\" in message:\n",
    "            continue\n",
    "        \n",
    "        if \"Initial\" not in experiment.set.description:\n",
    "            header = measure.replace('Modified','')\n",
    "        else:\n",
    "            header = measure\n",
    "            \n",
    "            \n",
    "        if header not in headers:\n",
    "            headers.append(header)\n",
    "        if experiment.number_of_classes is None or experiment.number_of_clusters != experiment.number_of_classes:\n",
    "            serie.append(np.nan)\n",
    "        else:\n",
    "            serie.append(experiment.f_score)\n",
    "    \n",
    "    series.append(serie)\n",
    "    print(len(headers))\n",
    "    \n",
    "    return pd.DataFrame(series, index = datasets, columns=headers)"
   ]
  },
  {
   "cell_type": "code",
   "execution_count": null,
   "metadata": {},
   "outputs": [],
   "source": [
    "engine = create_engine('sqlite:///../results.db', echo=False)\n",
    "session_class = sessionmaker(bind=engine)\n",
    "session = session_class()\n",
    "query = session.query(Experiment).order_by(Experiment.file_name, Experiment.id)\n",
    "#query = for experiment in session.query(Experiment).filter(or_(Experiment.set_id==i for i in [17])).order_by(Experiment.file_name):\n",
    "#query = for experiment in session.query(Experiment).filter(Experiment.number_of_clusters == Experiment.number_of_classes).order_by(Experiment.file_name):\n",
    "df = from_db_to_pandas(query)\n",
    "df"
   ]
  },
  {
   "cell_type": "code",
   "execution_count": null,
   "metadata": {},
   "outputs": [],
   "source": [
    "# Discard when Kappa is low and multiplying for normal weight\t\n",
    "# Discard when Kappa is low and multiplying for 1 - weight\t\n",
    "# Maximum when Kappa is low and multiplying for normal weight\n",
    "# Maximum when Kappa is low and multiplying for 1 - weight\n",
    "for measure in [\"Eskin\", \"Gambaryan\", \"Goodall\", \"OF\", \"IOF\", \"Lin\"]:\n",
    "    configs = [\"-w K -o D -t N\", \"-w K -o D -t I\", \"-w K -o M -t N\", \"-w K -o M -t I\"]\n",
    "    \n",
    "    pattern = re.compile(f\"^{measure}\\s\")\n",
    "    all_headers = [x for x in df.columns if pattern.match(x)]\n",
    "    #all_headers = [x for x in df.columns if measure in x]\n",
    "    headers = []\n",
    "    for config in configs:\n",
    "        for header in all_headers:\n",
    "            if config in header:\n",
    "                headers.append(header)\n",
    "    #headers = headers +\n",
    "    partial = df[headers]\n",
    "    partial = partial.fillna(0.0)\n",
    "    CDplot(partial.transpose(), higherIsBetter=True, alpha=0.05)"
   ]
  },
  {
   "cell_type": "code",
   "execution_count": null,
   "metadata": {},
   "outputs": [],
   "source": [
    "for measure in [\"Eskin\"]:\n",
    "    configs = [\"-w K -o D -t N\", \"-w K -o D -t I\", \"-w K -o M -t N\", \"-w K -o M -t I\"]\n",
    "    \n",
    "    pattern = re.compile(f\"^{measure}\\s\")\n",
    "    all_headers = [x for x in df.columns if pattern.match(x)]\n",
    "    #all_headers = [x for x in df.columns if measure in x]\n",
    "    headers = []\n",
    "    for config in configs:\n",
    "        for header in all_headers:\n",
    "            if config in header:\n",
    "                headers.append(header)\n",
    "    #headers = headers +\n",
    "    partial = df[headers]\n",
    "partial"
   ]
  },
  {
   "cell_type": "code",
   "execution_count": null,
   "metadata": {},
   "outputs": [],
   "source": []
  }
 ],
 "metadata": {
  "kernelspec": {
   "display_name": "Python 3",
   "language": "python",
   "name": "python3"
  },
  "language_info": {
   "codemirror_mode": {
    "name": "ipython",
    "version": 3
   },
   "file_extension": ".py",
   "mimetype": "text/x-python",
   "name": "python",
   "nbconvert_exporter": "python",
   "pygments_lexer": "ipython3",
   "version": "3.7.3"
  }
 },
 "nbformat": 4,
 "nbformat_minor": 4
}
