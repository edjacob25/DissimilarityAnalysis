{
 "cells": [
  {
   "cell_type": "code",
   "execution_count": null,
   "metadata": {},
   "outputs": [],
   "source": [
    "import sys\n",
    "sys.path.append(\"..\")\n",
    "\n",
    "from pandas import DataFrame\n",
    "import pandas as pd\n",
    "import numpy as np\n",
    "from jmetal.lab.statistical_test.critical_distance import CDplot\n",
    "import matplotlib.pyplot as plt\n",
    "import random\n",
    "import re\n",
    "import os\n",
    "import git\n",
    "from scipy.stats import wilcoxon\n",
    "from sqlalchemy import create_engine, or_, Column, Integer, String, Float, DateTime, ForeignKey, Boolean\n",
    "from sqlalchemy.ext.declarative import declarative_base\n",
    "from sqlalchemy.orm import relationship, sessionmaker\n",
    "from do_analysis import Experiment, ExperimentSet"
   ]
  },
  {
   "cell_type": "code",
   "execution_count": null,
   "metadata": {},
   "outputs": [],
   "source": [
    "def from_db_to_pandas(query):\n",
    "    last = \"\"\n",
    "    headers = []\n",
    "    datasets = []\n",
    "    series = []\n",
    "    serie = None\n",
    "    code_directory = os.path.abspath(os.path.join(os.getcwd(), os.pardir))\n",
    "    repo = git.Repo(code_directory)\n",
    "\n",
    "    for experiment in query:\n",
    "        if last != experiment.file_name:\n",
    "            last = experiment.file_name\n",
    "            dataset_name = experiment.file_name.rsplit('/')[-1].split(\".\")[0]\n",
    "            datasets.append(dataset_name)\n",
    "            if serie is not None:\n",
    "                series.append(serie)\n",
    "            serie = []\n",
    "        message = experiment.set.description\n",
    "        measure =  experiment.method.split('.')[-1]\n",
    "       \n",
    "        if \"Initial\" not in experiment.set.description:\n",
    "            header = measure.replace('Modified','')\n",
    "        else:\n",
    "            header = measure\n",
    "        \n",
    "        if experiment.method == \"weka.core.LearningBasedDissimilarity -R first-last -S E -W K\":\n",
    "            continue\n",
    "            \n",
    "        if header not in headers:\n",
    "            headers.append(header)\n",
    "        if experiment.number_of_classes is None or experiment.number_of_clusters != experiment.number_of_classes:\n",
    "            serie.append(0.0)\n",
    "        else:\n",
    "            serie.append(experiment.f_score)\n",
    "    \n",
    "    series.append(serie)\n",
    "    print(len(headers))\n",
    "    \n",
    "    return pd.DataFrame(series, index = datasets, columns=headers)"
   ]
  },
  {
   "cell_type": "code",
   "execution_count": null,
   "metadata": {},
   "outputs": [],
   "source": [
    "engine = create_engine('sqlite:///../results_testing.db', echo=False)\n",
    "session_class = sessionmaker(bind=engine)\n",
    "session = session_class()\n",
    "query = session.query(Experiment).order_by(Experiment.file_name, Experiment.id)\n",
    "#query = for experiment in session.query(Experiment).filter(or_(Experiment.set_id==i for i in [17])).order_by(Experiment.file_name):\n",
    "#query = for experiment in session.query(Experiment).filter(Experiment.number_of_clusters == Experiment.number_of_classes).order_by(Experiment.file_name):\n",
    "df = from_db_to_pandas(query)\n",
    "df"
   ]
  },
  {
   "cell_type": "code",
   "execution_count": null,
   "metadata": {},
   "outputs": [],
   "source": [
    "dft = df.apply(lambda x: x.rank(ascending=False), axis = 1)\n",
    "dft\n",
    "averages = dft.mean() \n",
    "averages = averages.sort_values()\n",
    "averages.sort_values()"
   ]
  },
  {
   "cell_type": "code",
   "execution_count": null,
   "metadata": {},
   "outputs": [],
   "source": [
    "CDplot(df.transpose(), higher_is_better=True, alpha=0.1, output_filename='cdplotss.png')"
   ]
  },
  {
   "cell_type": "code",
   "execution_count": null,
   "metadata": {},
   "outputs": [],
   "source": [
    "lb = \"Lin_KappaMax\"\n",
    "pairs = [x for x in df.columns if x != lb ]\n",
    "for y in pairs:\n",
    "    c, p = wilcoxon( df[lb], df[y], alternative=\"greater\")\n",
    "    if p < 0.1:    \n",
    "        print(f\"{lb} vs {y} -> {p}\")\n",
    "    else:\n",
    "        print(f\"{lb} and {y} are not different, p -> {p}\")"
   ]
  },
  {
   "cell_type": "code",
   "execution_count": null,
   "metadata": {},
   "outputs": [],
   "source": []
  }
 ],
 "metadata": {
  "kernelspec": {
   "display_name": "Python 3",
   "language": "python",
   "name": "python3"
  },
  "language_info": {
   "codemirror_mode": {
    "name": "ipython",
    "version": 3
   },
   "file_extension": ".py",
   "mimetype": "text/x-python",
   "name": "python",
   "nbconvert_exporter": "python",
   "pygments_lexer": "ipython3",
   "version": "3.7.3"
  }
 },
 "nbformat": 4,
 "nbformat_minor": 4
}
