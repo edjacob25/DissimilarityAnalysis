{
 "cells": [
  {
   "cell_type": "code",
   "execution_count": null,
   "metadata": {},
   "outputs": [],
   "source": [
    "from common import do_analysis, compare_same_item"
   ]
  },
  {
   "cell_type": "code",
   "execution_count": null,
   "metadata": {},
   "outputs": [],
   "source": [
    "%matplotlib inline"
   ]
  },
  {
   "cell_type": "markdown",
   "metadata": {},
   "source": [
    "## Plots explanation\n",
    "The next plot show the average F-Measure and Adjusted Rand Index for each measure and then the average positions in the rankings obtained by the same measures.\n",
    "\n",
    "\n",
    "For further explaining, they are connected by lines with other measures which are not significantly different using the Wilcoxon test.\n",
    "Blue lines indicate that they are not significantly different using F-Measure and red lines mean they are not significantly different using Adjusted Rand Index\n",
    "\n",
    "In the first graph, a better measure will tend to be in the upper right side, as we try to maximize both the scores of F-Measure and Adjusted Rand Index. Whereas in the second graph, a better measure will tend to be in the lower left side, as we try to minimize the rankings given by the scores F-Measure and Adjusted Rand Index."
   ]
  },
  {
   "cell_type": "markdown",
   "metadata": {},
   "source": [
    "# Results with no inputing, setting to minimal score when classes and clusters do not match"
   ]
  },
  {
   "cell_type": "code",
   "execution_count": null,
   "metadata": {},
   "outputs": [],
   "source": [
    "# do_analysis(\"normal\", True)"
   ]
  },
  {
   "cell_type": "markdown",
   "metadata": {},
   "source": [
    "# Results with no inputing, mantaining values when classes and clusters do not match"
   ]
  },
  {
   "cell_type": "code",
   "execution_count": null,
   "metadata": {},
   "outputs": [],
   "source": [
    "do_analysis(\"normal\", False)"
   ]
  },
  {
   "cell_type": "markdown",
   "metadata": {},
   "source": [
    "# Inputed results, setting to minimal score when classes and clusters do not match"
   ]
  },
  {
   "cell_type": "code",
   "execution_count": null,
   "metadata": {},
   "outputs": [],
   "source": [
    "# do_analysis(\"inputed\", True)"
   ]
  },
  {
   "cell_type": "markdown",
   "metadata": {},
   "source": [
    "# Inputed results, mantaining values when classes and clusters do not match"
   ]
  },
  {
   "cell_type": "code",
   "execution_count": null,
   "metadata": {},
   "outputs": [],
   "source": [
    "do_analysis(\"inputed\", False)"
   ]
  },
  {
   "cell_type": "markdown",
   "metadata": {},
   "source": [
    "# Comparing our algorithm by Wilcoxon in Normal (No inputed) vs Inputed data"
   ]
  },
  {
   "cell_type": "code",
   "execution_count": null,
   "metadata": {},
   "outputs": [],
   "source": [
    "compare_same_item(\"normal\", \"inputed\", \"LearningBased E N\", True)"
   ]
  },
  {
   "cell_type": "code",
   "execution_count": null,
   "metadata": {},
   "outputs": [],
   "source": [
    "compare_same_item(\"normal\", \"inputed\", \"LearningBased E N\", False)"
   ]
  }
 ],
 "metadata": {
  "kernelspec": {
   "display_name": "Python 3",
   "language": "python",
   "name": "python3"
  },
  "language_info": {
   "codemirror_mode": {
    "name": "ipython",
    "version": 3
   },
   "file_extension": ".py",
   "mimetype": "text/x-python",
   "name": "python",
   "nbconvert_exporter": "python",
   "pygments_lexer": "ipython3",
   "version": "3.7.3"
  }
 },
 "nbformat": 4,
 "nbformat_minor": 4
}
