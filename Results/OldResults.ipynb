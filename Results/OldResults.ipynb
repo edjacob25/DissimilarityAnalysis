{
 "cells": [
  {
   "cell_type": "code",
   "execution_count": null,
   "metadata": {},
   "outputs": [],
   "source": [
    "import sys\n",
    "sys.path.append(\"..\")\n",
    "\n",
    "from pandas import DataFrame\n",
    "import pandas as pd\n",
    "import numpy as np\n",
    "import scipy.stats as st\n",
    "import scipy as sp\n",
    "from jmetal.lab.statistical_test.critical_distance import CDplot\n",
    "import matplotlib.pyplot as plt\n",
    "import random\n",
    "import re\n",
    "import os\n",
    "import git\n",
    "from scipy.stats import wilcoxon\n",
    "from sqlalchemy import create_engine, or_, Column, Integer, String, Float, DateTime, ForeignKey, Boolean\n",
    "from sqlalchemy.ext.declarative import declarative_base\n",
    "from sqlalchemy.orm import relationship, sessionmaker\n",
    "from data_types import Experiment, ExperimentSet"
   ]
  },
  {
   "cell_type": "code",
   "execution_count": null,
   "metadata": {},
   "outputs": [],
   "source": [
    "def get_dataset(database, eliminate_classes_different=True, old_format=True):\n",
    "    engine = create_engine(database, echo=False)\n",
    "    session_class = sessionmaker(bind=engine)\n",
    "    session = session_class()\n",
    "    query = session.query(Experiment).filter(or_(Experiment.set_id==i for i in [1,2])).order_by(Experiment.file_name)\n",
    "    if not old_format:\n",
    "        query = session.query(Experiment).order_by(Experiment.file_name, Experiment.id)\n",
    "    \n",
    "    #query = for experiment in session.query(Experiment).filter(Experiment.number_of_clusters == Experiment.number_of_classes).order_by(Experiment.file_name):\n",
    "    return order_dataset(from_db_to_pandas(query, eliminate_classes_different))\n",
    "\n",
    "def get_averages(df):\n",
    "    dft = df.apply(lambda x: x.rank(ascending=False), axis = 1)\n",
    "    averages = dft.mean()\n",
    "    return averages\n",
    "\n",
    "def compare_individually(header, df):\n",
    "    pairs = [x for x in df.columns if x != header ]\n",
    "    for y in pairs:\n",
    "        c, p = wilcoxon(df[header], df[y], alternative=\"greater\")\n",
    "        if p < 0.1:    \n",
    "            print(f\"{header} vs {y} -> {p}\")\n",
    "        else:\n",
    "            print(f\"{header} and {y} are not different, p -> {p}\")"
   ]
  },
  {
   "cell_type": "markdown",
   "metadata": {},
   "source": [
    "# Setting to 0 when classes and clusters do not match"
   ]
  },
  {
   "cell_type": "code",
   "execution_count": null,
   "metadata": {},
   "outputs": [],
   "source": [
    "df = get_dataset('sqlite:///results_old_june.db', eliminate_classes_different=True)\n",
    "headers = [\"Eskin\", \"EuclideanDistance\", \"Gambaryan\", \"Goodall\", \"InverseOccurenceFrequency\", \n",
    "           \"LearningBasedDissimilarity E N\", \"Lin\", \"LinModified Kappa\", \"LinModified KappaMax\", \"ManhattanDistance\", \"OccurenceFrequency\"]\n",
    "df = df.loc[:,headers]\n",
    "df1 = get_dataset('sqlite:///results_testing_input.db', eliminate_classes_different=True, old_format=False)\n",
    "df = df.append(df1)"
   ]
  },
  {
   "cell_type": "code",
   "execution_count": null,
   "metadata": {},
   "outputs": [],
   "source": [
    "avgs = get_averages(df)\n",
    "avgs"
   ]
  },
  {
   "cell_type": "code",
   "execution_count": null,
   "metadata": {},
   "outputs": [],
   "source": [
    "%matplotlib inline\n",
    "CDplot(df.transpose(), higher_is_better=True, alpha=0.1, output_filename='adjusted_rand.png')"
   ]
  },
  {
   "cell_type": "code",
   "execution_count": null,
   "metadata": {},
   "outputs": [],
   "source": [
    "compare_individually(\"LearningBasedDissimilarity E N\", df)"
   ]
  },
  {
   "cell_type": "markdown",
   "metadata": {},
   "source": [
    "# Mantaining values when classes and clusters do not match"
   ]
  },
  {
   "cell_type": "code",
   "execution_count": null,
   "metadata": {},
   "outputs": [],
   "source": [
    "df = get_dataset('sqlite:///results_old_june.db', eliminate_classes_different=False)\n",
    "headers = [\"Eskin\", \"EuclideanDistance\", \"Gambaryan\", \"Goodall\", \"InverseOccurenceFrequency\", \n",
    "           \"LearningBasedDissimilarity E N\", \"Lin\", \"LinModified Kappa\", \"LinModified KappaMax\", \"ManhattanDistance\", \"OccurenceFrequency\"]\n",
    "df = df.loc[:,headers]\n",
    "df1 = get_dataset('sqlite:///results_testing_input.db', eliminate_classes_different=False, old_format=False)\n",
    "df = df.append(df1)"
   ]
  },
  {
   "cell_type": "code",
   "execution_count": null,
   "metadata": {},
   "outputs": [],
   "source": [
    "avgs = get_averages(df)\n",
    "avgs"
   ]
  },
  {
   "cell_type": "code",
   "execution_count": null,
   "metadata": {},
   "outputs": [],
   "source": [
    "%matplotlib inline\n",
    "CDplot(df.transpose(), higher_is_better=True, alpha=0.1, output_filename='adjusted_rand.png')"
   ]
  },
  {
   "cell_type": "code",
   "execution_count": null,
   "metadata": {},
   "outputs": [],
   "source": [
    "compare_individually(\"LearningBasedDissimilarity E N\", df)"
   ]
  },
  {
   "cell_type": "code",
   "execution_count": null,
   "metadata": {},
   "outputs": [],
   "source": []
  }
 ],
 "metadata": {
  "kernelspec": {
   "display_name": "Python 3",
   "language": "python",
   "name": "python3"
  },
  "language_info": {
   "codemirror_mode": {
    "name": "ipython",
    "version": 3
   },
   "file_extension": ".py",
   "mimetype": "text/x-python",
   "name": "python",
   "nbconvert_exporter": "python",
   "pygments_lexer": "ipython3",
   "version": "3.7.3"
  }
 },
 "nbformat": 4,
 "nbformat_minor": 4
}
