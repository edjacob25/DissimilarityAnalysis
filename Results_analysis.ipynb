{
 "cells": [
  {
   "cell_type": "code",
   "execution_count": null,
   "metadata": {
    "pycharm": {
     "is_executing": false
    }
   },
   "outputs": [],
   "source": [
    "from pandas import DataFrame\n",
    "import pandas as pd\n",
    "from openpyxl import load_workbook\n",
    "import matplotlib.pyplot as plt\n",
    "import random\n",
    "from scipy.stats import wilcoxon"
   ]
  },
  {
   "cell_type": "code",
   "execution_count": null,
   "metadata": {
    "pycharm": {
     "is_executing": false
    }
   },
   "outputs": [],
   "source": [
    "loc = \"/mnt/f/Datasets/CleanedDatasets2/Results_Other.xlsx\"\n",
    "wb = load_workbook(loc)\n",
    "sheet = wb.active"
   ]
  },
  {
   "cell_type": "code",
   "execution_count": null,
   "metadata": {
    "pycharm": {
     "is_executing": false
    }
   },
   "outputs": [],
   "source": [
    "headers = [sheet.cell(1, x).value.split(\" \", 1)[1] for x in range(2, 18, 2)]\n",
    "headers.append(\"Learning Based\")\n",
    "headers"
   ]
  },
  {
   "cell_type": "code",
   "execution_count": null,
   "metadata": {
    "pycharm": {
     "is_executing": false
    }
   },
   "outputs": [],
   "source": [
    "data = [[sheet.cell(y, x).value for y in range(2,31)] for x in range(3, 18, 2)]\n",
    "data.append([0.9566994905,\n",
    "0.4884400666,\n",
    "0.6525660753,\n",
    "0.926907599,\n",
    "0.9353886843,\n",
    "0.945910573,\n",
    "0.9069463015,\n",
    "0.6714044809,\n",
    "0.5670365095,\n",
    "0.6437994838,\n",
    "0.338203758,\n",
    "0.4083592594,\n",
    "0.4059928656,\n",
    "0.5114220381,\n",
    "0.2943754792,\n",
    "0.3979581892,\n",
    "0.4172253013,\n",
    "0.5566448569,\n",
    "0.4551629126,\n",
    "0.5562104583,\n",
    "0.5360223055,\n",
    "0.5547594428,\n",
    "0.4666725099,\n",
    "0.5604070425,\n",
    "0.444272697,\n",
    "0.2828712165,\n",
    "0.522356689,\n",
    "0.5395794511,\n",
    "0.688572228])\n",
    "df = pd.DataFrame(data, index=headers)\n",
    "\n",
    "df"
   ]
  },
  {
   "cell_type": "code",
   "execution_count": null,
   "metadata": {
    "pycharm": {
     "is_executing": false
    }
   },
   "outputs": [],
   "source": [
    "plt.isinteractive()"
   ]
  },
  {
   "cell_type": "code",
   "execution_count": null,
   "metadata": {
    "pycharm": {
     "is_executing": false
    }
   },
   "outputs": [],
   "source": [
    "means = df.mean(axis=1)\n",
    "means"
   ]
  },
  {
   "cell_type": "code",
   "execution_count": null,
   "metadata": {
    "pycharm": {
     "is_executing": false
    }
   },
   "outputs": [],
   "source": [
    "all_colors = list(plt.cm.colors.cnames.keys())\n",
    "random.seed(1000)\n",
    "c = random.choices(all_colors, k=9)\n",
    "\n",
    "# Plot Bars\n",
    "plt.figure(figsize=(16,10), dpi= 80)\n",
    "plt.bar(means.index, means, color=c, width=.8)\n",
    "for i, val in enumerate(means.values):\n",
    "    plt.text(i, val, \"{0:.5f}\".format(val), horizontalalignment='center', verticalalignment='bottom', fontdict={'fontweight':500, 'size':18})\n",
    "\n",
    "# Decoration\n",
    "plt.gca().set_xticklabels(df.index, rotation=60, horizontalalignment= 'right', fontdict={'fontweight':500, 'size':18})\n",
    "for label in (plt.gca().get_yticklabels()):\n",
    "    label.set_fontsize(18) # Size here overrides font_prop\n",
    "\n",
    "plt.title(\"Mean F1-Score in trained datasets\", fontsize=22)\n",
    "plt.ylabel('F1-Score', fontsize=20)\n",
    "#plt.ylim(0, 0.7)\n",
    "plt.savefig(\"bars.png\", transparent=True, bbox_inches=\"tight\")\n",
    "plt.show()"
   ]
  },
  {
   "cell_type": "code",
   "execution_count": null,
   "metadata": {
    "pycharm": {
     "is_executing": false
    }
   },
   "outputs": [],
   "source": [
    "fig = plt.figure(figsize=(16,10), dpi= 80)\n",
    "ax = fig.add_subplot(111)\n",
    "#fig, ax = plt.subplots()\n",
    "#box = df.boxplot(ax=ax)\n",
    "\n",
    "bp = ax.boxplot(df, usermedians=means, autorange=True, widths=0.65, patch_artist=True)\n",
    "ax.margins(y=0.05)\n",
    "\n",
    "for label in (plt.gca().get_yticklabels()):\n",
    "    label.set_fontsize(18) # Size here overrides font_prop\n",
    "for i, box in enumerate(bp['boxes']):\n",
    "    # change outline color\n",
    "    #box.set( color='#7570b3', linewidth=2)\n",
    "    # change fill color\n",
    "    box.set_facecolor(c[i])\n",
    "    pass\n",
    "for median in bp['medians']:\n",
    "    median.set(color='black')\n",
    "    \n",
    "for i, val in enumerate(means.values):\n",
    "    plt.text(i+1, val, \"{0:.4f}\".format(val),horizontalalignment='center', verticalalignment='bottom', fontdict={'fontweight':500, 'size':18})\n",
    "    \n",
    "plt.ylabel('F1-Score', fontsize=20)\n",
    "plt.gca().set_xticklabels(df.index, rotation=60, horizontalalignment= 'right', fontdict={'fontweight':500, 'size':18})\n",
    "plt.savefig(\"box.png\", transparent=True, bbox_inches=\"tight\")\n",
    "plt.show()"
   ]
  },
  {
   "cell_type": "code",
   "execution_count": null,
   "metadata": {
    "pycharm": {
     "is_executing": false
    }
   },
   "outputs": [],
   "source": [
    "ls = df.index.values.tolist()\n",
    "\n",
    "pairs = []\n",
    "for i in df.index:\n",
    "    idx = ls.index(i) + 1\n",
    "    for j in ls[idx:]:\n",
    "        pairs.append((i,j))\n",
    "pairs = []\n",
    "for i in range(0,8):\n",
    "    pairs.append((\"Learning Based\", ls[i]))\n",
    "        \n",
    "a = pd.DataFrame(index=df.index, columns=df.index)\n",
    "        \n",
    "for x, y in pairs:\n",
    "    _, p = wilcoxon(df.loc[x], df.loc[y])\n",
    "    if p < 0.05:\n",
    "        best = x  if means[x] > means[y] else y\n",
    "        #print(f\"{x} and {y} are statistically different and the better is {best}\")\n",
    "        #print(f\"{p}\")\n",
    "        print(f\"LB vs {y} -> {p}\")\n",
    "        a[y][x] = best\n",
    "    else:\n",
    "        print(f\"{x} and {y} are not different\")\n",
    "        a[y][x] = \"None\""
   ]
  },
  {
   "cell_type": "code",
   "execution_count": null,
   "metadata": {
    "pycharm": {
     "is_executing": false
    }
   },
   "outputs": [],
   "source": [
    "a"
   ]
  }
 ],
 "metadata": {
  "kernelspec": {
   "display_name": "Python 3",
   "language": "python",
   "name": "python3"
  },
  "language_info": {
   "codemirror_mode": {
    "name": "ipython",
    "version": 3
   },
   "file_extension": ".py",
   "mimetype": "text/x-python",
   "name": "python",
   "nbconvert_exporter": "python",
   "pygments_lexer": "ipython3",
   "version": "3.7.3"
  }
 },
 "nbformat": 4,
 "nbformat_minor": 4
}
