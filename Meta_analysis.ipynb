{
 "cells": [
  {
   "cell_type": "code",
   "execution_count": null,
   "metadata": {},
   "outputs": [],
   "source": [
    "import pandas as pd\n",
    "from scipy.io import arff\n",
    "import matplotlib.pyplot as plt\n",
    "\n",
    "%matplotlib inline"
   ]
  },
  {
   "cell_type": "code",
   "execution_count": null,
   "metadata": {},
   "outputs": [],
   "source": [
    "data, meta = arff.loadarff(\"full.arff\")\n",
    "df = pd.DataFrame(data).applymap(lambda x: x.decode(\"utf-8\") if isinstance(x, (bytes, bytearray)) else x)\n",
    "df[[\"dominant_class\", \"very_dominant_class\"]] = (df[[\"dominant_class\", \"very_dominant_class\"]] == 1.0)\n",
    "\n",
    "df"
   ]
  },
  {
   "cell_type": "code",
   "execution_count": null,
   "metadata": {},
   "outputs": [],
   "source": [
    "classes = [\"IOF\", \"LB\"]\n",
    "\n",
    "\n",
    "for winner in classes:\n",
    "    data = df[df.winner == winner]\n",
    "    dc = {}\n",
    "    for col, s in data.items():\n",
    "        if col == \"winner\":\n",
    "            continue\n",
    "        \n",
    "        if col in [\"dominant_class\", \"very_dominant_class\"]:\n",
    "            dc[col] = {\"percentage\": 1 - s.value_counts(normalize=True)[0]}\n",
    "        else:\n",
    "            dc[col] = {\"avg\": s.mean(), \"std\": s.std()}\n",
    "    print(dc)\n",
    "    #ax.plot()"
   ]
  },
  {
   "cell_type": "code",
   "execution_count": null,
   "metadata": {},
   "outputs": [],
   "source": [
    "data"
   ]
  },
  {
   "cell_type": "code",
   "execution_count": null,
   "metadata": {},
   "outputs": [],
   "source": [
    "df.columns = [x.replace(\"_\",\" \").capitalize() for x in df.columns] "
   ]
  },
  {
   "cell_type": "code",
   "execution_count": null,
   "metadata": {},
   "outputs": [],
   "source": [
    "fig, ax = plt.subplots(3, 5, figsize=(20, 10))\n",
    "\n",
    "cols =[x for x in df.columns.values if x not in [\"Dominant class\", \"Very dominant class\", \"Winner\"]]\n",
    "\n",
    "for i,el in enumerate(cols):\n",
    "    a = df.boxplot(el, by=\"Winner\", ax=ax.flatten()[i])\n",
    "    \n",
    "    a.get_figure().gca().set_title(\"\")\n",
    "    a.get_figure().suptitle('')\n",
    "    a.get_figure().gca().set_xlabel(\"\")\n",
    "    a.get_figure().gca().set_label(\"\")\n",
    "\n",
    "fig.delaxes(ax[2,4]) # remove empty subplot\n",
    "plt.tight_layout() \n",
    "#plt.title = \"\"\n",
    "\n",
    "plt.savefig(f\"meta.svg\", format=\"svg\", transparent=True)\n",
    "plt.show()\n",
    "#df.boxplot(by=\"winner\", ax=ax)"
   ]
  },
  {
   "cell_type": "code",
   "execution_count": null,
   "metadata": {},
   "outputs": [],
   "source": [
    "df.boxplot(by=\"winner\")"
   ]
  },
  {
   "cell_type": "code",
   "execution_count": null,
   "metadata": {},
   "outputs": [],
   "source": []
  }
 ],
 "metadata": {
  "kernelspec": {
   "display_name": "Python 3",
   "language": "python",
   "name": "python3"
  },
  "language_info": {
   "codemirror_mode": {
    "name": "ipython",
    "version": 3
   },
   "file_extension": ".py",
   "mimetype": "text/x-python",
   "name": "python",
   "nbconvert_exporter": "python",
   "pygments_lexer": "ipython3",
   "version": "3.7.5"
  }
 },
 "nbformat": 4,
 "nbformat_minor": 4
}
