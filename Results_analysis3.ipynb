{
 "cells": [
  {
   "cell_type": "code",
   "execution_count": null,
   "metadata": {},
   "outputs": [],
   "source": [
    "from pandas import DataFrame\n",
    "import pandas as pd\n",
    "import numpy as np\n",
    "import git\n",
    "import matplotlib.pyplot as plt\n",
    "import random\n",
    "import os\n",
    "from scipy.stats import wilcoxon\n",
    "from sqlalchemy import create_engine, or_, Column, Integer, String, Float, DateTime, ForeignKey, Boolean\n",
    "from sqlalchemy.ext.declarative import declarative_base\n",
    "from sqlalchemy.orm import relationship, sessionmaker\n",
    "from do_analysis import Experiment, ExperimentSet"
   ]
  },
  {
   "cell_type": "code",
   "execution_count": null,
   "metadata": {},
   "outputs": [],
   "source": [
    "def from_db_to_pandas(query):\n",
    "    last = \"\"\n",
    "    headers = []\n",
    "    datasets = []\n",
    "    series = []\n",
    "    serie = None\n",
    "    code_directory = os.path.abspath(os.path.join(os.getcwd(), os.pardir))\n",
    "    repo = git.Repo(code_directory)\n",
    "\n",
    "    for experiment in query:\n",
    "        if last != experiment.file_name:\n",
    "            last = experiment.file_name\n",
    "            dataset_name = experiment.file_name.rsplit('/')[-1].split(\".\")[0]\n",
    "            datasets.append(dataset_name)\n",
    "            if serie is not None:\n",
    "                series.append(serie)\n",
    "            serie = []\n",
    "        message = repo.commit(experiment.set.commit).message.strip()\n",
    "        message = experiment.set.description\n",
    "        measure =  experiment.method.split('.')[-1]\n",
    "        if \"LearningBased\" in measure:\n",
    "            strategy = measure.split(\" \")[4]\n",
    "            weight = measure.split(\" \")[6]\n",
    "            measure = f\"LearningBased strategy {strategy}, weight {weight}\"\n",
    "        header = f\"{measure} - {message} - {experiment.set.commit}\"\n",
    "        if header not in headers:\n",
    "            headers.append(header)\n",
    "        if experiment.number_of_classes is None or experiment.number_of_clusters != experiment.number_of_classes:\n",
    "            serie.append(np.nan)\n",
    "        else:\n",
    "            serie.append(experiment.f_score)\n",
    "\n",
    "\n",
    "    series.append(serie)\n",
    "\n",
    "    return pd.DataFrame(series, index = datasets, columns=headers)\n"
   ]
  },
  {
   "cell_type": "code",
   "execution_count": null,
   "metadata": {},
   "outputs": [],
   "source": [
    "engine = create_engine('sqlite:///results.db')\n",
    "session_class = sessionmaker(bind=engine)\n",
    "session = session_class()\n",
    "query = session.query(Experiment).order_by(Experiment.file_name, Experiment.id)\n",
    "#query = for experiment in session.query(Experiment).filter(or_(Experiment.set_id==i for i in [17])).order_by(Experiment.file_name):\n",
    "#query = for experiment in session.query(Experiment).filter(Experiment.number_of_clusters == Experiment.number_of_classes).order_by(Experiment.file_name):\n",
    "df = from_db_to_pandas(query)\n",
    "df"
   ]
  },
  {
   "cell_type": "code",
   "execution_count": null,
   "metadata": {},
   "outputs": [],
   "source": [
    "dft = df.apply(lambda x: x.rank(ascending=False), axis = 1)\n",
    "dft"
   ]
  },
  {
   "cell_type": "code",
   "execution_count": null,
   "metadata": {},
   "outputs": [],
   "source": [
    "averages = dft.mean()\n",
    "averages.sort_values()"
   ]
  },
  {
   "cell_type": "code",
   "execution_count": null,
   "metadata": {},
   "outputs": [],
   "source": [
    "strategies = {}\n",
    "for i, average in enumerate(averages):\n",
    "    commit = averages.index[i].split(\" - \", 1)[-1]\n",
    "    if commit in strategies:\n",
    "        items, avg_position = strategies[commit]\n",
    "        accumulated = avg_position * items\n",
    "        accumulated = accumulated + average\n",
    "        items =  items + 1\n",
    "        strategies[commit] = (items, accumulated/items)\n",
    "    else:\n",
    "        strategies[commit] = (1, average)\n",
    "strategies"
   ]
  },
  {
   "cell_type": "code",
   "execution_count": null,
   "metadata": {},
   "outputs": [],
   "source": [
    "def only_upper(s):\n",
    "    return \"\".join(c for c in s if c.isupper())\n",
    "\n",
    "strategies = {}\n",
    "measure = {}\n",
    "for i, average in enumerate(averages):\n",
    "    measure, commit = averages.index[i].split(\" - \", 1)\n",
    "    if \"Original\" in commit:\n",
    "        if \"OccurenceFrequency\" in measure:\n",
    "            measure = only_upper(measure)\n",
    "        if commit in strategies:\n",
    "            strategies[commit][measure] = average\n",
    "        else:\n",
    "            strategies[commit] = {measure: average}"
   ]
  },
  {
   "cell_type": "code",
   "execution_count": null,
   "metadata": {},
   "outputs": [],
   "source": [
    "for strategy in strategies:\n",
    "    other_strategies = [x for x in strategies if x != strategy]\n",
    "    better_results = 0\n",
    "    for measure in strategies[strategy]:\n",
    "        avg = strategies[strategy][measure]\n",
    "        for other_strategy in other_strategies:\n",
    "            if measure in strategies[other_strategy]:\n",
    "                other_avg = strategies[other_strategy][measure]\n",
    "                if avg < other_avg:\n",
    "                    better_results = better_results +1\n",
    "    num_of_measures = len(strategies[strategy])\n",
    "    print(f\"Strategy {strategy} has {better_results} better results, for {num_of_measures} measures, which averages to {better_results/num_of_measures} better results per measure\")"
   ]
  },
  {
   "cell_type": "code",
   "execution_count": null,
   "metadata": {},
   "outputs": [],
   "source": []
  }
 ],
 "metadata": {
  "kernelspec": {
   "display_name": "Python 3",
   "language": "python",
   "name": "python3"
  },
  "language_info": {
   "codemirror_mode": {
    "name": "ipython",
    "version": 3
   },
   "file_extension": ".py",
   "mimetype": "text/x-python",
   "name": "python",
   "nbconvert_exporter": "python",
   "pygments_lexer": "ipython3",
   "version": "3.7.3"
  }
 },
 "nbformat": 4,
 "nbformat_minor": 4
}
